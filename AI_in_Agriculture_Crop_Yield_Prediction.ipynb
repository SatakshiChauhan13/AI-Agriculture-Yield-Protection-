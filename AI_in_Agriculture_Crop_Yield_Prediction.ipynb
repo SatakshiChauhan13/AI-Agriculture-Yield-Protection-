{
 "cells": [
  {
   "cell_type": "markdown",
   "id": "bf98a3a7",
   "metadata": {},
   "source": [
    "# AI in Agriculture: Crop Monitoring and Yield Prediction"
   ]
  },
  {
   "cell_type": "markdown",
   "id": "ab2d94d5",
   "metadata": {},
   "source": [
    "\n",
    "### 📘 Introduction\n",
    "\n",
    "Agriculture plays a crucial role in ensuring food security. Leveraging AI for crop monitoring and yield prediction can help farmers make informed decisions. In this project, we use machine learning techniques to predict crop yields based on environmental and soil conditions.\n",
    "\n",
    "We'll use a sample dataset that includes various parameters such as rainfall, temperature, and soil quality to train a model for yield prediction.\n"
   ]
  },
  {
   "cell_type": "code",
   "execution_count": null,
   "id": "79426db3",
   "metadata": {},
   "outputs": [],
   "source": [
    "\n",
    "# Install required libraries (if running for the first time)\n",
    "!pip install pandas matplotlib seaborn scikit-learn\n"
   ]
  },
  {
   "cell_type": "code",
   "execution_count": null,
   "id": "5656bcdb",
   "metadata": {},
   "outputs": [],
   "source": [
    "\n",
    "import pandas as pd\n",
    "import numpy as np\n",
    "import matplotlib.pyplot as plt\n",
    "import seaborn as sns\n",
    "from sklearn.model_selection import train_test_split\n",
    "from sklearn.linear_model import LinearRegression\n",
    "from sklearn.metrics import mean_squared_error, r2_score\n"
   ]
  },
  {
   "cell_type": "markdown",
   "id": "c6962c05",
   "metadata": {},
   "source": [
    "### 📥 Load Dataset"
   ]
  },
  {
   "cell_type": "code",
   "execution_count": null,
   "id": "ae7c4179",
   "metadata": {},
   "outputs": [],
   "source": [
    "\n",
    "# Sample dataset link (Kaggle or similar)\n",
    "# For demo purpose, using a synthetic dataset\n",
    "\n",
    "data = {\n",
    "    'Rainfall': [100, 80, 120, 90, 110, 95, 105, 115, 130, 85],\n",
    "    'Temperature': [30, 28, 32, 29, 31, 27, 33, 34, 35, 28],\n",
    "    'Soil_Quality': [70, 65, 75, 60, 68, 64, 72, 78, 80, 62],\n",
    "    'Crop_Yield': [3.5, 2.9, 4.2, 3.1, 3.8, 3.0, 4.0, 4.5, 4.8, 3.0]\n",
    "}\n",
    "\n",
    "df = pd.DataFrame(data)\n",
    "df.head()\n"
   ]
  },
  {
   "cell_type": "markdown",
   "id": "3d428fd6",
   "metadata": {},
   "source": [
    "### 📊 Exploratory Data Analysis"
   ]
  },
  {
   "cell_type": "code",
   "execution_count": null,
   "id": "3fc20491",
   "metadata": {},
   "outputs": [],
   "source": [
    "\n",
    "sns.pairplot(df)\n",
    "plt.show()\n",
    "\n",
    "print(\"Correlation Matrix:\")\n",
    "print(df.corr())\n"
   ]
  },
  {
   "cell_type": "markdown",
   "id": "602fe530",
   "metadata": {},
   "source": [
    "### 🤖 Train Machine Learning Model"
   ]
  },
  {
   "cell_type": "code",
   "execution_count": null,
   "id": "491c7c1e",
   "metadata": {},
   "outputs": [],
   "source": [
    "\n",
    "X = df[['Rainfall', 'Temperature', 'Soil_Quality']]\n",
    "y = df['Crop_Yield']\n",
    "\n",
    "X_train, X_test, y_train, y_test = train_test_split(X, y, test_size=0.2, random_state=42)\n",
    "\n",
    "model = LinearRegression()\n",
    "model.fit(X_train, y_train)\n",
    "\n",
    "y_pred = model.predict(X_test)\n",
    "\n",
    "# Evaluation\n",
    "print(\"Mean Squared Error:\", mean_squared_error(y_test, y_pred))\n",
    "print(\"R2 Score:\", r2_score(y_test, y_pred))\n"
   ]
  },
  {
   "cell_type": "markdown",
   "id": "8682da66",
   "metadata": {},
   "source": [
    "### 📈 Visualize Predictions"
   ]
  },
  {
   "cell_type": "code",
   "execution_count": null,
   "id": "2af16364",
   "metadata": {},
   "outputs": [],
   "source": [
    "\n",
    "plt.scatter(y_test, y_pred)\n",
    "plt.xlabel(\"Actual Yield\")\n",
    "plt.ylabel(\"Predicted Yield\")\n",
    "plt.title(\"Actual vs Predicted Crop Yield\")\n",
    "plt.grid(True)\n",
    "plt.show()\n"
   ]
  },
  {
   "cell_type": "markdown",
   "id": "d064fbf0",
   "metadata": {},
   "source": [
    "### ✅ Conclusion"
   ]
  },
  {
   "cell_type": "markdown",
   "id": "814bfc3f",
   "metadata": {},
   "source": [
    "\n",
    "In this project, we built a simple machine learning model to predict crop yield based on rainfall, temperature, and soil quality. \n",
    "With more complex and larger real-world datasets, this model can be extended and integrated into AI-driven agricultural advisory systems.\n"
   ]
  }
 ],
 "metadata": {},
 "nbformat": 4,
 "nbformat_minor": 5
}
